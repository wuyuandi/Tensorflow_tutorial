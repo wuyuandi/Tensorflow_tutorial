{
  "nbformat": 4,
  "nbformat_minor": 0,
  "metadata": {
    "colab": {
      "name": "Dropout_example.ipynb",
      "version": "0.3.2",
      "provenance": [],
      "private_outputs": true
    },
    "kernelspec": {
      "name": "python3",
      "display_name": "Python 3"
    },
    "accelerator": "GPU"
  },
  "cells": [
    {
      "metadata": {
        "id": "Ibv3IZ12CZXn",
        "colab_type": "code",
        "colab": {}
      },
      "cell_type": "code",
      "source": [
        "import tensorflow as tf\n",
        "from tensorflow.examples.tutorials.mnist import input_data\n",
        "\n",
        "\n",
        "mnist = input_data.read_data_sets(\"MNIST_data\",one_hot=True)\n",
        "\n",
        "batch_size = 100\n",
        "\n",
        "n_batch = mnist.train.num_examples // batch_size\n",
        "\n",
        "\n",
        "x = tf.placeholder(tf.float32,[None,784])\n",
        "y = tf.placeholder(tf.float32,[None,10])\n",
        "keep_prob=tf.placeholder(tf.float32)\n",
        "\n",
        "\n",
        "W1 = tf.Variable(tf.truncated_normal([784,2000],stddev=0.1))\n",
        "b1 = tf.Variable(tf.zeros([2000])+0.1)\n",
        "L1 = tf.nn.tanh(tf.matmul(x,W1)+b1)\n",
        "L1_drop = tf.nn.dropout(L1,keep_prob) \n",
        "\n",
        "W2 = tf.Variable(tf.truncated_normal([2000,2000],stddev=0.1))\n",
        "b2 = tf.Variable(tf.zeros([2000])+0.1)\n",
        "L2 = tf.nn.tanh(tf.matmul(L1_drop,W2)+b2)\n",
        "L2_drop = tf.nn.dropout(L2,keep_prob) \n",
        "\n",
        "W3 = tf.Variable(tf.truncated_normal([2000,1000],stddev=0.1))\n",
        "b3 = tf.Variable(tf.zeros([1000])+0.1)\n",
        "L3 = tf.nn.tanh(tf.matmul(L2_drop,W3)+b3)\n",
        "L3_drop = tf.nn.dropout(L3,keep_prob) \n",
        "\n",
        "W4 = tf.Variable(tf.truncated_normal([1000,10],stddev=0.1))\n",
        "b4 = tf.Variable(tf.zeros([10])+0.1)\n",
        "prediction = tf.nn.softmax(tf.matmul(L3_drop,W4)+b4)\n",
        "\n",
        "\n",
        "loss = tf.reduce_mean(tf.nn.softmax_cross_entropy_with_logits_v2(labels=y,logits=prediction))\n",
        "train_step = tf.train.GradientDescentOptimizer(0.2).minimize(loss)\n",
        "\n",
        "init = tf.global_variables_initializer()\n",
        "\n",
        "correct_prediction = tf.equal(tf.argmax(y,1),tf.argmax(prediction,1))\n",
        "accuracy = tf.reduce_mean(tf.cast(correct_prediction,tf.float32))\n",
        "\n",
        "with tf.Session() as sess:\n",
        "    sess.run(init)\n",
        "    for epoch in range(31):\n",
        "        for batch in range(n_batch):\n",
        "            batch_xs,batch_ys =  mnist.train.next_batch(batch_size)\n",
        "            sess.run(train_step,feed_dict={x:batch_xs,y:batch_ys,keep_prob:0.7})\n",
        "        \n",
        "        test_acc = sess.run(accuracy,feed_dict={x:mnist.test.images,y:mnist.test.labels,keep_prob:1.0})\n",
        "        train_acc = sess.run(accuracy,feed_dict={x:mnist.train.images,y:mnist.train.labels,keep_prob:1.0})\n",
        "        print(\"Iter \" + str(epoch) + \",Testing Accuracy \" + str(test_acc) +\",Training Accuracy \" + str(train_acc))"
      ],
      "execution_count": 0,
      "outputs": []
    }
  ]
}